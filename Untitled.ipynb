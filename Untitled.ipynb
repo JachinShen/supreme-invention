{
 "cells": [
  {
   "cell_type": "code",
   "execution_count": 1,
   "metadata": {},
   "outputs": [],
   "source": [
    "import torch\n",
    "import numpy as np"
   ]
  },
  {
   "cell_type": "code",
   "execution_count": 34,
   "metadata": {},
   "outputs": [],
   "source": [
    "memory = torch.load(\"resources/replay-5.memory\")"
   ]
  },
  {
   "cell_type": "code",
   "execution_count": 39,
   "metadata": {},
   "outputs": [
    {
     "name": "stdout",
     "output_type": "stream",
     "text": [
      "[760.3919760294393]\n",
      "[667.0626020499387]\n",
      "[673.8006081312512]\n",
      "[680.6066748800517]\n",
      "[586.4713887677291]\n",
      "[592.3953421896254]\n",
      "[598.3791335248741]\n",
      "[503.41326618674145]\n",
      "[508.4982486734762]\n",
      "[513.634594619673]\n",
      "[266.2975703229019]\n",
      "[268.98744477060796]\n",
      "[271.70448966728077]\n",
      "[21.923726936647242]\n",
      "[22.145178723886104]\n",
      "[22.36886739786475]\n",
      "[22.59481555339874]\n",
      "[22.82304601353408]\n",
      "[23.053581831852604]\n",
      "[23.28644629480061]\n",
      "[23.52166292404102]\n",
      "[23.759255478829314]\n",
      "[23.99924795841345]\n",
      "[24.24166460445803]\n",
      "[24.48652990349296]\n",
      "[24.73386858938683]\n",
      "[24.983705645845284]\n",
      "[25.23606630893463]\n",
      "[25.490976069630943]\n",
      "[25.748460676394892]\n",
      "[26.00854613777262]\n",
      "[26.271258725022847]\n",
      "[26.536624974770554]\n",
      "[26.804671691687428]\n",
      "[27.075425951199424]\n",
      "[27.348915102221643]\n",
      "[27.625166769920853]\n",
      "[27.90420885850591]\n",
      "[28.186069554046373]\n",
      "[28.47077732731957]\n",
      "[28.758360936686437]\n",
      "[29.048849430996402]\n",
      "[29.34227215252162]\n",
      "[29.638658739920828]\n",
      "[29.93803913123316]\n",
      "[30.240443566902183]\n",
      "[30.545902592830487]\n",
      "[30.854447063465138]\n",
      "[31.16610814491428]\n",
      "[31.48091731809523]\n",
      "[31.798906381914374]\n",
      "[32.12010745647917]\n",
      "[32.44455298634259]\n",
      "[32.7722757437804]\n",
      "[33.10330883210141]\n",
      "[33.43768568899132]\n",
      "[33.775440089890225]\n",
      "[34.11660615140427]\n",
      "[34.461218334751784]\n",
      "[34.80931144924423]\n",
      "[35.16092065580225]\n",
      "[35.516081470507324]\n",
      "[35.874829768189215]\n",
      "[36.23720178604971]\n",
      "[36.60323412732294]\n",
      "[36.97296376497267]\n",
      "[37.34642804542694]\n",
      "[37.72366469235045]\n",
      "[38.104711810454994]\n",
      "[38.48960788934848]\n",
      "[38.8783918074227]\n",
      "[39.27110283578051]\n",
      "[39.66778064220254]\n",
      "[40.06846529515408]\n",
      "[40.473197267832404]\n",
      "[40.882017442254956]\n",
      "[41.29496711338884]\n",
      "[41.712087993322065]\n",
      "[42.133422215476834]\n",
      "[42.559012338865486]\n",
      "[42.98890135238938]\n",
      "[43.42313267918119]\n",
      "[43.861750180991095]\n",
      "[44.30479816261727]\n",
      "[44.752321376381076]\n",
      "[45.20436502664755]\n",
      "[45.66097477439147]\n",
      "[46.12219674180957]\n",
      "[46.58807751697936]\n",
      "[47.05866415856501]\n",
      "[47.53400420057071]\n",
      "[48.01414565714214]\n",
      "[48.4991370274163]\n",
      "[48.98902730042051]\n",
      "[49.483865960020715]\n",
      "[49.98370298991991]\n",
      "[50.488588878706985]\n",
      "[50.998574624956554]\n",
      "[51.51371174238036]\n",
      "[52.03405226503067]\n"
     ]
    }
   ],
   "source": [
    "for t in memory[500:600]:\n",
    "    print(t.reward)"
   ]
  },
  {
   "cell_type": "code",
   "execution_count": 28,
   "metadata": {},
   "outputs": [],
   "source": [
    "data = []\n",
    "data_sum = 0\n",
    "for i in range(1,1000):\n",
    "    data_sum += np.exp(-i)*np.sqrt(i)\n",
    "    data.append(data_sum)\n",
    "    "
   ]
  },
  {
   "cell_type": "code",
   "execution_count": 24,
   "metadata": {},
   "outputs": [],
   "source": [
    "import matplotlib.pyplot as plt"
   ]
  },
  {
   "cell_type": "code",
   "execution_count": 29,
   "metadata": {},
   "outputs": [
    {
     "data": {
      "image/png": "[encoded data removed]",
      "text/plain": [
       "<Figure size 432x288 with 1 Axes>"
      ]
     },
     "metadata": {
      "needs_background": "light"
     },
     "output_type": "display_data"
    }
   ],
   "source": [
    "plt.plot(data)\n",
    "plt.show()"
   ]
  },
  {
   "cell_type": "code",
   "execution_count": 30,
   "metadata": {},
   "outputs": [
    {
     "data": {
      "text/plain": [
       "0.707240718486804"
      ]
     },
     "execution_count": 30,
     "metadata": {},
     "output_type": "execute_result"
    }
   ],
   "source": [
    "data[-1]"
   ]
  },
  {
   "cell_type": "code",
   "execution_count": 31,
   "metadata": {},
   "outputs": [
    {
     "data": {
      "text/plain": [
       "0.7071067811865476"
      ]
     },
     "execution_count": 31,
     "metadata": {},
     "output_type": "execute_result"
    }
   ],
   "source": [
    "np.sqrt(2)/2"
   ]
  }
 ],
 "metadata": {
  "kernelspec": {
   "display_name": "Python 3",
   "language": "python",
   "name": "python3"
  },
  "language_info": {
   "codemirror_mode": {
    "name": "ipython",
    "version": 3
   },
   "file_extension": ".py",
   "mimetype": "text/x-python",
   "name": "python",
   "nbconvert_exporter": "python",
   "pygments_lexer": "ipython3",
   "version": "3.7.1"
  }
 },
 "nbformat": 4,
 "nbformat_minor": 2
}
